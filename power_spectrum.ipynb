{
 "cells": [
  {
   "cell_type": "markdown",
   "metadata": {},
   "source": [
    "# Set-up"
   ]
  },
  {
   "cell_type": "code",
   "execution_count": 2,
   "metadata": {
    "execution": {
     "iopub.execute_input": "2024-10-02T19:15:22.684089Z",
     "iopub.status.busy": "2024-10-02T19:15:22.683588Z",
     "iopub.status.idle": "2024-10-02T19:15:22.730515Z",
     "shell.execute_reply": "2024-10-02T19:15:22.728814Z",
     "shell.execute_reply.started": "2024-10-02T19:15:22.684050Z"
    }
   },
   "outputs": [],
   "source": [
    "import numpy as np\n",
    "import importlib\n",
    "import time\n",
    "import sys\n",
    "from tqdm import tqdm\n",
    "from scipy.special import eval_legendre, legendre, spherical_jn\n",
    "\n",
    "import hmvec as hm # needed for the halo model\n",
    "from utils.my_units import *\n",
    "\n",
    "#importlib.reload(sys.modules['utils.power_spectrum_tools'])\n",
    "from utils.power_spectrum_tools import *"
   ]
  },
  {
   "cell_type": "markdown",
   "metadata": {},
   "source": [
    "# Halo model stuff"
   ]
  },
  {
   "cell_type": "code",
   "execution_count": 3,
   "metadata": {
    "execution": {
     "iopub.execute_input": "2024-10-02T19:16:58.856180Z",
     "iopub.status.busy": "2024-10-02T19:16:58.855085Z",
     "iopub.status.idle": "2024-10-02T19:17:12.859786Z",
     "shell.execute_reply": "2024-10-02T19:17:12.859084Z",
     "shell.execute_reply.started": "2024-10-02T19:16:58.856107Z"
    }
   },
   "outputs": [],
   "source": [
    "################### UNITS ###################\n",
    "# The units from hmvec are:\n",
    "# proper radius r is always in Mpc\n",
    "# comoving momentum k is always in Mpc-1\n",
    "# masses m are in Msolar\n",
    "# rho densities are in Msolar/Mpc^3\n",
    "# No h units anywhere\n",
    "\n",
    "#%%\n",
    "# Construct the Halo Model using hmvec\n",
    "# Redshift, mass, and wavenumbers ranges\n",
    "zMin, zMax, nZs = 0.005, 1.9, 98   #0.005, 1.9, 100  \n",
    "mMin, mMax, nMs = 1.e10, 1.e16, 102 #1e10, 1e17, 100\n",
    "kMin, kMax, nKs = 1.e-4, 1.e3, 1001\n",
    "ms  = np.geomspace(mMin, mMax, nMs)     \n",
    "zs  = np.linspace(zMin, zMax, nZs)      \n",
    "ks  = np.geomspace(1e-4, 1e3, nKs)      \n",
    "\n",
    "hcos = hm.HaloModel(zs, ks, ms=ms, mass_function='tinker', mdef='vir')"
   ]
  },
  {
   "cell_type": "code",
   "execution_count": 4,
   "metadata": {
    "execution": {
     "iopub.execute_input": "2024-10-02T19:18:00.706343Z",
     "iopub.status.busy": "2024-10-02T19:18:00.705161Z",
     "iopub.status.idle": "2024-10-02T19:18:09.232045Z",
     "shell.execute_reply": "2024-10-02T19:18:09.231657Z",
     "shell.execute_reply.started": "2024-10-02T19:18:00.706284Z"
    }
   },
   "outputs": [],
   "source": [
    "# Useful halo model quantities:\n",
    "chis     = hcos.comoving_radial_distance(zs)\n",
    "rvirs    = np.asarray([hcos.rvir(ms, zz) for zz in zs])\n",
    "cs       = hcos.concentration()\n",
    "Hubble   = hcos.h_of_z(zs)\n",
    "nzm      = hcos.get_nzm()\n",
    "biases   = hcos.get_bh()\n",
    "deltav   = hcos.deltav(zs)\n",
    "rhocritz = hcos.rho_critical_z(zs)\n",
    "PzkLin = hcos._get_matter_power(zs, ks, nonlinear=False)\n",
    "\n",
    "dvols  = chis**2. / Hubble\n",
    "aas = aa(zs)\n",
    "rs_nfw = rvirs/cs # scale radius for NFW profile\n",
    "### check issue with pref in hmvec\n",
    "#rhos_nfw = hm.rhoscale_nfw(ms, rvirs, cs) # scale density for NFW profile\n",
    "rhos_nfw = my_rhoscale_nfw(ms, rvirs, cs) # scale density for NFW profile"
   ]
  },
  {
   "cell_type": "code",
   "execution_count": null,
   "metadata": {},
   "outputs": [],
   "source": [
    "xMin, xMax, nXs = 1.e-3, 10, 1000\n",
    "\n",
    "xs = np.geomspace(xMin, xMax, nXs) \n",
    "rhos = np.zeros((nZs, nMs, nXs))\n",
    "\n",
    "rs = xs[None, None, :]*rs_nfw[:, :, None]/aas[:, None, None]\n",
    "rhos = hm.rho_nfw(rs, rhos_nfw[:, :, None], rs_nfw[:, :, None])\n",
    "\n",
    "def get_200critz(ms, cs, rhocritz, deltav):\n",
    "    '''Get m200 and r200'''\n",
    "    delta_rhos1 = deltav*rhocritz\n",
    "    delta_rhos2 = 200.*rhocritz\n",
    "    m200critz = hm.mdelta_from_mdelta(ms, cs, delta_rhos1, delta_rhos2)\n",
    "    r200critz = hm.R_from_M(m200critz, rhocritz[:,None], delta=200.)\n",
    "    return m200critz, r200critz\n",
    "\n",
    "m200c, r200c = get_200critz(ms, cs, rhocritz, deltav)\n",
    "Bs = get_B_rs(rs, zs, ms, m200c, r200c, rhocritz)\n",
    "Bs_flat = 0.1*np.ones(rhos.shape)"
   ]
  }
 ],
 "metadata": {
  "kernelspec": {
   "display_name": "Python 3",
   "language": "python",
   "name": "python3"
  },
  "language_info": {
   "codemirror_mode": {
    "name": "ipython",
    "version": 3
   },
   "file_extension": ".py",
   "mimetype": "text/x-python",
   "name": "python",
   "nbconvert_exporter": "python",
   "pygments_lexer": "ipython3",
   "version": "3.8.5"
  }
 },
 "nbformat": 4,
 "nbformat_minor": 4
}
