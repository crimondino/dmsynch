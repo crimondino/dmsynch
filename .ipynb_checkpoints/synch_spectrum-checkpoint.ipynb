{
 "cells": [
  {
   "cell_type": "markdown",
   "metadata": {},
   "source": [
    "# Setup"
   ]
  },
  {
   "cell_type": "code",
   "execution_count": 1,
   "metadata": {
    "execution": {
     "iopub.execute_input": "2024-04-24T17:16:16.942141Z",
     "iopub.status.busy": "2024-04-24T17:16:16.940733Z",
     "iopub.status.idle": "2024-04-24T17:16:18.141395Z",
     "shell.execute_reply": "2024-04-24T17:16:18.141028Z",
     "shell.execute_reply.started": "2024-04-24T17:16:16.941805Z"
    }
   },
   "outputs": [],
   "source": [
    "import numpy as np\n",
    "from scipy.special import eval_legendre, legendre, spherical_jn\n",
    "import itertools\n",
    "import time\n",
    "from itertools import cycle\n",
    "from math import atan2,degrees,lgamma \n",
    "from scipy.ndimage import gaussian_filter1d\n",
    "from scipy import interpolate\n",
    "from scipy.optimize import fsolve\n",
    "from scipy.interpolate import RegularGridInterpolator\n",
    "import random\n",
    "import os \n",
    "import seaborn as sns\n",
    "\n",
    "from utils.my_units import *"
   ]
  },
  {
   "cell_type": "code",
   "execution_count": 2,
   "metadata": {
    "execution": {
     "iopub.execute_input": "2024-04-24T17:16:18.142281Z",
     "iopub.status.busy": "2024-04-24T17:16:18.142179Z",
     "iopub.status.idle": "2024-04-24T17:16:18.149610Z",
     "shell.execute_reply": "2024-04-24T17:16:18.149310Z",
     "shell.execute_reply.started": "2024-04-24T17:16:18.142268Z"
    }
   },
   "outputs": [],
   "source": [
    "import matplotlib.pyplot as plt\n",
    "import matplotlib as mpl\n",
    "plt.rcdefaults()\n",
    "from matplotlib import font_manager\n",
    "from matplotlib import rcParams\n",
    "from matplotlib import rc\n",
    "from matplotlib import colors\n",
    "rcParams['mathtext.rm'] = 'Times New Roman' \n",
    "rcParams['text.usetex'] = True\n",
    "rcParams['font.family'] = 'times' #'sans-serif'\n",
    "font_manager.findfont('serif', rebuild_if_missing=True)\n",
    "fontsize = 14\n",
    "rcParams.update({'font.size':fontsize})"
   ]
  },
  {
   "cell_type": "markdown",
   "metadata": {},
   "source": [
    "# Synchrotron emission power"
   ]
  },
  {
   "cell_type": "code",
   "execution_count": 5,
   "metadata": {
    "execution": {
     "iopub.execute_input": "2024-04-24T17:33:58.140211Z",
     "iopub.status.busy": "2024-04-24T17:33:58.139400Z",
     "iopub.status.idle": "2024-04-24T17:33:58.153107Z",
     "shell.execute_reply": "2024-04-24T17:33:58.151736Z",
     "shell.execute_reply.started": "2024-04-24T17:33:58.140134Z"
    }
   },
   "outputs": [],
   "source": [
    "### From Eq. 23 of G. Beck. Galaxies, 7(1):16, January 2019\n",
    "def Fsynch(x):\n",
    "    return 1.25 * x**(1/3.) * np.exp(-x) * (648. + x**2)**(1/12.)"
   ]
  },
  {
   "cell_type": "code",
   "execution_count": 9,
   "metadata": {
    "execution": {
     "iopub.execute_input": "2024-04-24T17:37:31.077434Z",
     "iopub.status.busy": "2024-04-24T17:37:31.076785Z",
     "iopub.status.idle": "2024-04-24T17:37:32.328822Z",
     "shell.execute_reply": "2024-04-24T17:37:32.328411Z",
     "shell.execute_reply.started": "2024-04-24T17:37:31.077390Z"
    }
   },
   "outputs": [
    {
     "data": {
      "image/png": "[encoded data removed]",
      "text/plain": [
       "<Figure size 600x400 with 1 Axes>"
      ]
     },
     "metadata": {},
     "output_type": "display_data"
    }
   ],
   "source": [
    "fig, ax = plt.subplots(1, 1, figsize=(6, 4))\n",
    "xx = np.geomspace(1E-4, 10, 100)\n",
    "\n",
    "ax.plot(xx, Fsynch(xx))\n",
    "\n",
    "ax.set_xlabel(r'x', fontsize=15); \n",
    "ax.set_ylabel(r'$F_{\\rm synch}(x)$ ', fontsize=15); \n",
    "ax.set_xscale('log'); ax.set_yscale('log')"
   ]
  },
  {
   "cell_type": "code",
   "execution_count": null,
   "metadata": {},
   "outputs": [],
   "source": []
  }
 ],
 "metadata": {
  "kernelspec": {
   "display_name": "Python 3",
   "language": "python",
   "name": "python3"
  },
  "language_info": {
   "codemirror_mode": {
    "name": "ipython",
    "version": 3
   },
   "file_extension": ".py",
   "mimetype": "text/x-python",
   "name": "python",
   "nbconvert_exporter": "python",
   "pygments_lexer": "ipython3",
   "version": "3.8.5"
  }
 },
 "nbformat": 4,
 "nbformat_minor": 4
}
