{
 "cells": [
  {
   "cell_type": "markdown",
   "id": "83c1f5ec-d61e-416f-955b-c0ce18a5d6ef",
   "metadata": {},
   "source": [
    "# Setup"
   ]
  },
  {
   "cell_type": "code",
   "execution_count": 1,
   "id": "94e23a4b-c9ed-4266-bcbc-9607873cce18",
   "metadata": {},
   "outputs": [],
   "source": [
    "%load_ext autoreload"
   ]
  },
  {
   "cell_type": "code",
   "execution_count": 2,
   "id": "ac0add09-8a6f-420d-95f9-959c9c77a383",
   "metadata": {},
   "outputs": [],
   "source": [
    "# conda activate dmsynch\n",
    "%autoreload\n",
    "\n",
    "import numpy as np\n",
    "import matplotlib.pyplot as plt\n",
    "import sys\n",
    "sys.path.append(\"../\")\n",
    "from utils.power_spectrum_tools import *\n",
    "import hmvec as hm"
   ]
  },
  {
   "cell_type": "code",
   "execution_count": 3,
   "id": "4b8086ad-893c-4817-91f6-3ec8397d19ad",
   "metadata": {},
   "outputs": [],
   "source": [
    "# constants\n",
    "# do everything in GeV, microG\n",
    "me = 0.511 * 1e-3 # GeV\n",
    "alpha = 1./137\n",
    "e = np.sqrt(4*np.pi*alpha)\n",
    "r0 = e**2 / me # classical electron radius, 1/GeV\n"
   ]
  },
  {
   "cell_type": "markdown",
   "id": "336e677e-4553-430d-af28-021986bfad63",
   "metadata": {},
   "source": [
    "# Reproduce Storm et al\n",
    "https://arxiv.org/pdf/1607.01049\n",
    "\n",
    "Goal is to find the overall flux of DM synchotron and compare to LOFAR sensitivity.\n",
    "\n",
    "DM synchotron flux is given by \n",
    "$$ \n",
    "S_{\\nu}(\\nu,z) \\approx \\frac{1}{D_A^2} \\int_0^R dr\\,r^2j_{\\nu}(\\nu,r,z),\n",
    "$$\n",
    "where\n",
    "$$\n",
    "j_\\nu(\\nu,r,z) = 2\\int_{m_e c^2}^{m_\\chi} dE\\, \\frac{dn_e}{dE}(E,r,z)P_{\\nu}(\\nu,E,r,z)\n",
    "$$\n",
    "and $D_A$ is the angular diameter distance.  The constituent functions of $j_{\\nu}$ are found in Eqs 3-7 of this paper.\n",
    "\n",
    "I'm disinterested in units, just looking to make sure I can predict the right shape for now."
   ]
  },
  {
   "cell_type": "code",
   "execution_count": 4,
   "id": "b13f7f87-2a4d-49c5-beb8-e89b67615066",
   "metadata": {},
   "outputs": [],
   "source": [
    "# density\n",
    "def density_f(x):\n",
    "    return x**3*(np.log(1+1/x) - 1/(1+x))\n",
    "def rho_DM(r,rvir,Mvir):\n",
    "    cvir = 9*(Mvir*2*.67/1e14)**(-.172)\n",
    "    rs = rvir/cvir\n",
    "    rhos = Mvir/(4*np.pi*rvir**3*density_f(rs/rvir))\n",
    "    return rhos/(r/rs * (1 + r/rs)**2)"
   ]
  },
  {
   "cell_type": "code",
   "execution_count": 5,
   "id": "f0b442b5-1f21-466a-8ca6-f1e565c7c8d9",
   "metadata": {},
   "outputs": [],
   "source": [
    "# let the injection spectrum dNdE = delta(E-mchi) for now\n",
    "\n",
    "# make sure you input E in GeV\n",
    "def b_loss(E,B,z):\n",
    "    gamma = E/me\n",
    "    n = 1e-3 # cm^-3\n",
    "    return 0.0254 * E**2 * B**2 + .25*(E**2)*(1+z)**4 + 1.51*n*(.36+np.log(gamma/n))+ 6.13*n*(1+np.log(gamma/n)/75.)\n",
    "\n",
    "def electron_injection_spectrum(sigmav,r,rvir,Mvir,mchi,dNdE):\n",
    "    return sigmav*rho_DM(r,rvir,Mvir)**2/(2*mchi**2) * dNdE\n",
    "\n",
    "# this assumes no diffusion!  With diffusion, will need to solve FP\n",
    "def dndE(sigmav,B,mchi,E,r,rvir,Mvir,z):\n",
    "    E_arr = np.linspace(E,mchi,num=100)\n",
    "    # dNdE = delta(E-mchi)\n",
    "    dNdE_arr = np.zeros(len(E_arr))\n",
    "    dNdE_arr[-1] = 1.\n",
    "    prefac = sigmav*rho_DM(r,rvir,Mvir)**2/(2*mchi**2*b_loss(E,B,z)) \n",
    "    return prefac * np.trapezoid(dNdE_arr,E_arr)\n",
    "\n",
    "def bessely_F(s):\n",
    "    return 1.25*s**(1/3)*np.exp(-s)*(648+s**2)**(1/2)\n",
    "\n",
    "def Pnu_integrand(theta,B,nu,E,z):\n",
    "    gamma = E/me\n",
    "    nu0 = e*B/(2*np.pi*me)\n",
    "    x = 2 * nu * (1+z)/(3*nu0*gamma**2)\n",
    "    return np.sin(theta)/2 * 2 * np.pi * np.sqrt(3) * r0 * nu0 * me *np.sin(theta) * bessely_F(x/np.sin(theta))\n",
    "    \n",
    "def Pnu(B,nu,E,r,z):\n",
    "    theta_arr = np.linspace(1e-14,np.pi,num=50)\n",
    "    Pnu_arr = Pnu_integrand(theta_arr,B,nu,E,z)\n",
    "    return np.trapezoid(Pnu_arr,theta_arr)\n",
    "\n",
    "def jnu(sigmav,B,mchi,nu,r,rvir,Mvir,z):\n",
    "    E_arr = np.linspace(me,mchi,num=50)\n",
    "    integrand_arr = [dndE(sigmav,B,mchi,E,r,rvir,Mvir,z) * Pnu(B,nu,E,r,z) for E in E_arr]\n",
    "    return np.trapezoid(integrand_arr, E_arr)"
   ]
  },
  {
   "cell_type": "code",
   "execution_count": 6,
   "id": "1fdb7ffb-48f0-4ed1-864a-ecd2430f7d77",
   "metadata": {},
   "outputs": [],
   "source": [
    "def flux(sigmav,B,mchi,nu,rvir,Mvir,z,DA,R):\n",
    "    r_arr = np.linspace(1e-14,R,num=50)\n",
    "    int_arr = r_arr**2 * jnu(sigmav,B,mchi,nu,r_arr,rvir,Mvir,z)\n",
    "    return 1/DA**2 * np.trapezoid(int_arr,r_arr)\n",
    "flux_vec = np.vectorize(flux)"
   ]
  },
  {
   "cell_type": "code",
   "execution_count": 7,
   "id": "2206226c-247c-46bf-88d7-d18f875de0d2",
   "metadata": {},
   "outputs": [
    {
     "data": {
      "text/plain": [
       "np.float64(2.912654796492958e-09)"
      ]
     },
     "execution_count": 7,
     "metadata": {},
     "output_type": "execute_result"
    }
   ],
   "source": [
    " dndE(1,1.,400,1,1,1,1,0)"
   ]
  },
  {
   "cell_type": "code",
   "execution_count": 8,
   "id": "394988f3-bac8-4a46-99a7-81ce1e7a9aec",
   "metadata": {},
   "outputs": [
    {
     "data": {
      "text/plain": [
       "np.float64(1.3753512405462578e+33)"
      ]
     },
     "execution_count": 8,
     "metadata": {},
     "output_type": "execute_result"
    }
   ],
   "source": [
    "flux(.1,1,1e1,1,1,1,.1,.3,4)"
   ]
  },
  {
   "cell_type": "code",
   "execution_count": null,
   "id": "c27886a6-ef32-4e2e-91a7-50261c940226",
   "metadata": {},
   "outputs": [],
   "source": []
  },
  {
   "cell_type": "code",
   "execution_count": 9,
   "id": "ccb4b920-e495-4794-95a1-f28251f9da57",
   "metadata": {},
   "outputs": [],
   "source": [
    "# flux(.1,1,1e10,1,1,1,0,.1,1)\n",
    "freq_arr = np.logspace(1e-1,4)\n",
    "res = [flux(.1,1,1e50,nu,1,1,.1,.3,4) for nu in freq_arr]"
   ]
  },
  {
   "cell_type": "code",
   "execution_count": 10,
   "id": "65a198d4-6213-4eb9-a3f0-16f0f2cc876d",
   "metadata": {},
   "outputs": [
    {
     "data": {
      "text/plain": [
       "Text(0, 0.5, 'Flux density (arbitrary units)')"
      ]
     },
     "execution_count": 10,
     "metadata": {},
     "output_type": "execute_result"
    },
    {
     "data": {
      "image/png": "[encoded data removed]",
      "text/plain": [
       "<Figure size 640x480 with 1 Axes>"
      ]
     },
     "metadata": {},
     "output_type": "display_data"
    }
   ],
   "source": [
    "plt.loglog(freq_arr, res)\n",
    "plt.xlabel(\"frequency (arbitrary units)\")\n",
    "plt.ylabel(\"Flux density (arbitrary units)\")"
   ]
  },
  {
   "cell_type": "markdown",
   "id": "7929a2c8-e8db-43c6-a4cb-a81b53752812",
   "metadata": {},
   "source": [
    "# Patchy spectrum"
   ]
  },
  {
   "cell_type": "markdown",
   "id": "fb84410f-cfd9-4830-b3b4-e46f44c8e7c2",
   "metadata": {},
   "source": [
    "First need to model halos.  We will do this as Cristina does with `hmvec` from Simons (https://github.com/simonsobs/hmvec)."
   ]
  },
  {
   "cell_type": "code",
   "execution_count": 11,
   "id": "a824cea6-d504-4772-906e-4bf1488e6ef2",
   "metadata": {},
   "outputs": [],
   "source": [
    "################### UNITS ###################\n",
    "# The units from hmvec are:\n",
    "# proper radius r is always in Mpc\n",
    "# comoving momentum k is always in Mpc-1\n",
    "# masses m are in Msolar\n",
    "# rho densities are in Msolar/Mpc^3\n",
    "# No h units anywhere\n",
    "\n",
    "#%%\n",
    "# Construct the Halo Model using hmvec\n",
    "# Redshift, mass, and wavenumbers ranges\n",
    "zMin, zMax, nZs = 0.005, 1.9, 98   #0.005, 1.9, 100  \n",
    "mMin, mMax, nMs = 1.e10, 1.e16, 102 #1e10, 1e17, 100\n",
    "kMin, kMax, nKs = 1.e-4, 1.e3, 1001\n",
    "ms  = np.geomspace(mMin, mMax, nMs)     \n",
    "zs  = np.linspace(zMin, zMax, nZs)      \n",
    "ks  = np.geomspace(1e-4, 1e3, nKs)      \n",
    "\n",
    "hcos = hm.HaloModel(zs, ks, ms=ms, mass_function='tinker', mdef='vir')"
   ]
  },
  {
   "cell_type": "code",
   "execution_count": 14,
   "id": "0e6c39f5-57e7-4398-8a6f-d1c730d9d668",
   "metadata": {},
   "outputs": [
    {
     "name": "stdout",
     "output_type": "stream",
     "text": [
      "Help on HaloModel in module hmvec.hmvec object:\n",
      "\n",
      "class HaloModel(hmvec.cosmology.Cosmology)\n",
      " |  HaloModel(zs, ks, ms=None, params={}, mass_function='sheth-torman', halofit=None, mdef='vir', nfw_numeric=False, skip_nfw=False, accuracy='medium', engine='camb')\n",
      " |  \n",
      " |  Method resolution order:\n",
      " |      HaloModel\n",
      " |      hmvec.cosmology.Cosmology\n",
      " |      builtins.object\n",
      " |  \n",
      " |  Methods defined here:\n",
      " |  \n",
      " |  R_of_m(self, ms)\n",
      " |  \n",
      " |  __init__(self, zs, ks, ms=None, params={}, mass_function='sheth-torman', halofit=None, mdef='vir', nfw_numeric=False, skip_nfw=False, accuracy='medium', engine='camb')\n",
      " |      Initialize self.  See help(type(self)) for accurate signature.\n",
      " |  \n",
      " |  add_battaglia_pres_profile(self, name, family=None, param_override=None, nxs=None, xmax=None, ignore_existing=False)\n",
      " |  \n",
      " |  add_battaglia_profile(self, name, family=None, param_override=None, nxs=None, xmax=None, ignore_existing=False)\n",
      " |  \n",
      " |  add_hod(self, name, mthresh=None, ngal=None, corr='max', satellite_profile_name='nfw', central_profile_name=None, ignore_existing=False, param_override=None)\n",
      " |      Specify an HOD.\n",
      " |      This requires either a stellar mass threshold mthresh (nz,)\n",
      " |      or a number density ngal (nz,) from which mthresh is identified iteratively.\n",
      " |      You can either specify a corr=\"max\" maximally correlated central-satellite \n",
      " |      model or a corr=\"min\" minimally correlated model.\n",
      " |      Miscentering could be included through central_profile_name (default uk=1 for default name of None).\n",
      " |  \n",
      " |  add_nfw_profile(self, name, numeric=False, nxs=None, xmax=None, ignore_existing=False)\n",
      " |      xmax should be thought of in \"concentration units\", i.e.,\n",
      " |      for a cluster with concentration 3., xmax of 100 is probably overkill\n",
      " |      since the integrals are zero for x>3. However, since we are doing\n",
      " |      a single FFT over all profiles, we need to choose a single xmax.\n",
      " |      xmax of 100 is very safe for m~1e9 msolar, but xmax of 200-300\n",
      " |      will be needed down to m~1e2 msolar.\n",
      " |      nxs is the number of samples from 0 to xmax of rho_nfw(x). Might need\n",
      " |      to be increased from default if xmax is increased and/or going down\n",
      " |      to lower halo masses.\n",
      " |      xmax decides accuracy on large scales\n",
      " |      nxs decides accuracy on small scales\n",
      " |  \n",
      " |  concentration(self, mode='duffy')\n",
      " |  \n",
      " |  deltav(self, z)\n",
      " |  \n",
      " |  get_bg(self, Nc, Ns, ngal)\n",
      " |  \n",
      " |  get_bh(self)\n",
      " |  \n",
      " |  get_fsigmaz(self)\n",
      " |  \n",
      " |  get_ngal(self, Nc, Ns)\n",
      " |  \n",
      " |  get_nzm(self)\n",
      " |  \n",
      " |  get_power(self, name, name2=None, verbose=False, b1=None, b2=None)\n",
      " |  \n",
      " |  get_power_1halo(self, name='nfw', name2=None)\n",
      " |  \n",
      " |  get_power_2halo(self, name='nfw', name2=None, verbose=False, b1_in=None, b2_in=None)\n",
      " |  \n",
      " |  get_sigma2(self)\n",
      " |  \n",
      " |  init_mass_function(self, ms)\n",
      " |  \n",
      " |  kappa_1h_profiles(self, thetas, Ms, concs, zsource, sig_theta=None, delta=200, rho='mean', rho_at_z=True)\n",
      " |  \n",
      " |  kappa_2h_profiles(self, thetas, Ms, zsource, delta=200, rho='mean', rho_at_z=True, lmin=100, lmax=10000, verbose=True)\n",
      " |  \n",
      " |  rvir(self, m, z)\n",
      " |  \n",
      " |  sigma_1h_profiles(self, thetas, Ms, concs, sig_theta=None, delta=200, rho='mean', rho_at_z=True)\n",
      " |  \n",
      " |  ----------------------------------------------------------------------\n",
      " |  Methods inherited from hmvec.cosmology.Cosmology:\n",
      " |  \n",
      " |  C_gg(self, ells, zs, ks, Pgg, gzs, gdndz=None, zmin=None, zmax=None)\n",
      " |  \n",
      " |  C_gy(self, ells, zs, ks, Pgp, gzs, gdndz=None, zmin=None, zmax=None)\n",
      " |  \n",
      " |  C_kg(self, ells, zs, ks, Pgm, gzs, gdndz=None, lzs=None, ldndz=None, lwindow=None)\n",
      " |  \n",
      " |  C_kk(self, ells, zs, ks, Pmm, lzs1=None, ldndz1=None, lzs2=None, ldndz2=None, lwindow1=None, lwindow2=None)\n",
      " |  \n",
      " |  C_ky(self, ells, zs, ks, Pym, lzs1=None, ldndz1=None, lzs2=None, ldndz2=None, lwindow1=None)\n",
      " |  \n",
      " |  C_yy(self, ells, zs, ks, Ppp, dndz=None, zmin=None, zmax=None)\n",
      " |  \n",
      " |  D_growth(self, a, type='anorm', exact=False, k_camb=1e-05)\n",
      " |  \n",
      " |  D_growth_approx(self, a)\n",
      " |  \n",
      " |  D_growth_exact_arbitrary_norm(self, a, k_camb=1e-05)\n",
      " |  \n",
      " |  P_lin(self, ks, zs, knorm=0.0001, kmax=None)\n",
      " |      This function will provide the linear matter power spectrum used in calculation\n",
      " |      of sigma2. It is written as\n",
      " |      P_lin(k,z) = norm(z) * T(k)**2\n",
      " |      where T(k) is the Eisenstein, Hu, 1998 transfer function.\n",
      " |      Care has to be taken about interpreting this beyond LCDM.\n",
      " |      For example, the transfer function can be inaccurate for nuCDM and wCDM cosmologies.\n",
      " |      If this function is only used to model sigma2 -> N(M,z) -> halo model power spectra at small\n",
      " |      scales, and cosmological dependence is obtained through an accurate CAMB based P(k),\n",
      " |      one should be fine.\n",
      " |  \n",
      " |  P_lin_approx(self, ks, zs, type='eisenhu_osc')\n",
      " |  \n",
      " |  P_lin_slow(self, ks, zs, kmax=None)\n",
      " |  \n",
      " |  P_mm_linear(self, zs, ks)\n",
      " |  \n",
      " |  P_mm_nonlinear(self, ks, zs, halofit_version='mead')\n",
      " |  \n",
      " |  Tk(self, ks, type='eisenhu_osc')\n",
      " |      Pulled from cosmicpy https://github.com/cosmicpy/cosmicpy/blob/master/LICENSE.rst\n",
      " |  \n",
      " |  angular_diameter_distance(self, z1, z2=None)\n",
      " |  \n",
      " |  bias_fnl(self, bg, fnl, z, ks, deltac=1.42)\n",
      " |  \n",
      " |  cmb_lensing_kk_exact(self, lmax, lens_potential_accuracy=4)\n",
      " |      Calculate the lensing convergence power spectrum C_l^{\\kappa\\kappa} using the exact calculation in CAMB.\n",
      " |      \n",
      " |      Arguments\n",
      " |      =========\n",
      " |      \n",
      " |      lmax: int\n",
      " |          maximum ell value to calculate to\n",
      " |      \n",
      " |      lens_potential_accuracy: int, optional\n",
      " |          accuracy of lensing potential calculation\n",
      " |      \n",
      " |      Returns\n",
      " |      =======\n",
      " |      \n",
      " |      ls: array\n",
      " |          ell values\n",
      " |      \n",
      " |      cl_kappa: array\n",
      " |          C_l^{\\kappa\\kappa} values\n",
      " |  \n",
      " |  cmb_lensing_limber(self, lmax, nonlinear=False)\n",
      " |      Calculate the lensing convergence power spectrum C_l^{\\kappa\\kappa} using Limber approximation, but using the Weyl potential power spectrum from CAMB. This code is adapted from the CAMB demo.\n",
      " |      \n",
      " |      Arguments\n",
      " |      =========\n",
      " |      \n",
      " |      lmax: int\n",
      " |          maximum ell value to calculate to\n",
      " |      \n",
      " |      nonlinear: bool, optional\n",
      " |          whether to use non-linear corrections\n",
      " |      \n",
      " |      Returns\n",
      " |      =======\n",
      " |      \n",
      " |      ls: array\n",
      " |          ell values\n",
      " |      \n",
      " |      cl_kappa: array \n",
      " |          C_l^{\\kappa\\kappa} values\n",
      " |  \n",
      " |  comoving_radial_distance(self, z)\n",
      " |  \n",
      " |  conformal_time(self, z, zmintol=1e-05)\n",
      " |      Get the conformal time at redshift z.\n",
      " |      \n",
      " |      Arguments\n",
      " |      =========\n",
      " |      \n",
      " |      z: float\n",
      " |          redshift. With the CLASS engine, if this is less than zmintol (default: 1e-5), it is assumed to be zero and the conformal age of the universe is returned.\n",
      " |      \n",
      " |      Returns\n",
      " |      =======\n",
      " |      \n",
      " |      float: conformal time\n",
      " |  \n",
      " |  get_Omega_nu(self)\n",
      " |  \n",
      " |  get_bao_rs_dV(self, zs)\n",
      " |  \n",
      " |  get_cmb_cls(self, lmax=3000, lens_potential_accuracy=4, nonlinear=True)\n",
      " |  \n",
      " |  get_growth_rate_f(self, zs)\n",
      " |  \n",
      " |  get_pk_interpolator(self, zs, kmax, var='weyl', nonlinear=False, return_z_k=False, k_per_logint=None, log_interp=True, extrap_kmax=None)\n",
      " |  \n",
      " |  get_sigma2_R(self, R, zs, kmin=None, kmax=None, numks=None, Ws=None, ret_pk=False)\n",
      " |  \n",
      " |  get_sigma8(self, zs, exact=False, kmin=0.0001, kmax=None, Ws=None, numks=1000, ret_pk=False)\n",
      " |  \n",
      " |  get_tau_star(self)\n",
      " |      Get the conformal time at recombination.\n",
      " |  \n",
      " |  h_of_z(self, z)\n",
      " |  \n",
      " |  hubble_parameter(self, z)\n",
      " |  \n",
      " |  lensing_window(self, ezs, zs, dndz=None)\n",
      " |      Generates a lensing convergence window \n",
      " |      W(z).\n",
      " |      \n",
      " |      zs: If (nz,) with nz>2 and dndz is not None, then these are the points\n",
      " |      at which dndz is defined. If nz=2 and no dndz is provided, it is (zmin,zmax)\n",
      " |      for a top-hat window. If a single number, and no dndz is provided,\n",
      " |      it is a delta function source at zs.\n",
      " |  \n",
      " |  omz(self, z)\n",
      " |  \n",
      " |  redshift_at_comoving_radial_distance(self, chi, zmax=10000.0)\n",
      " |      Get the redshift at comoving radial distance chi.\n",
      " |      \n",
      " |      TODO: Check if r and chi are the same in CLASS, esp.\n",
      " |      for non-flat cosmologies.\n",
      " |  \n",
      " |  rho_critical_z(self, z)\n",
      " |  \n",
      " |  rho_matter_z(self, z)\n",
      " |  \n",
      " |  sigma_crit(self, zlens, zsource)\n",
      " |  \n",
      " |  total_matter_galaxy_power_spectrum(self, Pgn, Pge)\n",
      " |  \n",
      " |  total_matter_power_spectrum(self, Pnn, Pne, Pee)\n",
      " |  \n",
      " |  z_of_tau(self, tau)\n",
      " |      Get the redshift at conformal time tau.\n",
      " |  \n",
      " |  ----------------------------------------------------------------------\n",
      " |  Data descriptors inherited from hmvec.cosmology.Cosmology:\n",
      " |  \n",
      " |  __dict__\n",
      " |      dictionary for instance variables\n",
      " |  \n",
      " |  __weakref__\n",
      " |      list of weak references to the object\n",
      "\n"
     ]
    }
   ],
   "source": [
    "help(hcos)"
   ]
  },
  {
   "cell_type": "code",
   "execution_count": null,
   "id": "1bcf1ab6-b324-4077-a8d0-c3ee2f014dec",
   "metadata": {},
   "outputs": [],
   "source": []
  }
 ],
 "metadata": {
  "kernelspec": {
   "display_name": "Python 3 (ipykernel)",
   "language": "python",
   "name": "python3"
  },
  "language_info": {
   "codemirror_mode": {
    "name": "ipython",
    "version": 3
   },
   "file_extension": ".py",
   "mimetype": "text/x-python",
   "name": "python",
   "nbconvert_exporter": "python",
   "pygments_lexer": "ipython3",
   "version": "3.11.10"
  }
 },
 "nbformat": 4,
 "nbformat_minor": 5
}
